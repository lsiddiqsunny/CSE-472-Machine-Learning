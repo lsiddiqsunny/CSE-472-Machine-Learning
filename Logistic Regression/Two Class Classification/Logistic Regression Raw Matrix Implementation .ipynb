{
 "cells": [
  {
   "cell_type": "code",
   "execution_count": 1,
   "metadata": {},
   "outputs": [],
   "source": [
    "#Import required python modules\n",
    "import numpy as np \n",
    "from sklearn import linear_model "
   ]
  },
  {
   "cell_type": "code",
   "execution_count": 2,
   "metadata": {},
   "outputs": [],
   "source": [
    "#load data from file\n",
    "data = np.genfromtxt('iris.csv', delimiter=',',skip_header=True)\n",
    "\n",
    "#Distribute data into train and test sets\n",
    "X_train = data[:80,[0,1,2,3]]\n",
    "Y_train = data[:80,5]\n",
    "\n",
    "X_test = data[-20:,[0,1,2,3]]\n",
    "Y_test = data[-20:,5]"
   ]
  },
  {
   "cell_type": "code",
   "execution_count": 3,
   "metadata": {},
   "outputs": [],
   "source": [
    "#Define the required Sigmoid function\n",
    "def sigmoid(z):\n",
    "    return 1/(1+np.exp(-z))"
   ]
  },
  {
   "cell_type": "code",
   "execution_count": 6,
   "metadata": {
    "tags": []
   },
   "outputs": [
    {
     "output_type": "stream",
     "name": "stdout",
     "text": "0\n-55.451774444795646\n[[ 0.      ]\n [-0.009725]\n [ 0.0066  ]\n [-0.02855 ]\n [-0.011175]]\n100\n-11.743797936695358\n[[ 0.12128412]\n [ 0.18112537]\n [ 0.69729525]\n [-1.06492132]\n [-0.46220067]]\n200\n-6.299389109303773\n[[ 0.16878723]\n [ 0.25502814]\n [ 0.95980853]\n [-1.45763631]\n [-0.63651892]]\n300\n-4.3043061196194445\n[[ 0.1979695 ]\n [ 0.29967412]\n [ 1.12020526]\n [-1.69806549]\n [-0.74416005]]\n400\n-3.2751399944391686\n[[ 0.21902153]\n [ 0.33158634]\n [ 1.23573927]\n [-1.8713324 ]\n [-0.82216338]]\n500\n-2.6474995606354796\n[[ 0.23548623]\n [ 0.35639062]\n [ 1.32608088]\n [-2.00682483]\n [-0.88341048]]\n600\n-2.2246003867464386\n[[ 0.24900609]\n [ 0.37666497]\n [ 1.40029232]\n [-2.11811169]\n [-0.93387848]]\n700\n-1.9201379443146736\n[[ 0.26047577]\n [ 0.39380256]\n [ 1.46329086]\n [-2.21256466]\n [-0.97682677]]\n800\n-1.6903417276892148\n[[ 0.27043611]\n [ 0.40864065]\n [ 1.5180416 ]\n [-2.29463231]\n [-1.0142282 ]]\n900\n-1.510654577546624\n[[ 0.27923891]\n [ 0.42172131]\n [ 1.56646995]\n [-2.36720477]\n [-1.0473677 ]]\n0\n-55.451774444795625\n[[ 0.      ]\n [-0.009725]\n [ 0.0066  ]\n [-0.02855 ]\n [-0.011175]]\n100\n-11.743797936695367\n[[ 0.12128412]\n [ 0.18112537]\n [ 0.69729525]\n [-1.06492132]\n [-0.46220067]]\n200\n-6.299389109303776\n[[ 0.16878723]\n [ 0.25502814]\n [ 0.95980853]\n [-1.45763631]\n [-0.63651892]]\n300\n-4.3043061196194445\n[[ 0.1979695 ]\n [ 0.29967412]\n [ 1.12020526]\n [-1.69806549]\n [-0.74416005]]\n400\n-3.2751399944391704\n[[ 0.21902153]\n [ 0.33158634]\n [ 1.23573927]\n [-1.8713324 ]\n [-0.82216338]]\n500\n-2.6474995606354828\n[[ 0.23548623]\n [ 0.35639062]\n [ 1.32608088]\n [-2.00682483]\n [-0.88341048]]\n600\n-2.224600386746438\n[[ 0.24900609]\n [ 0.37666497]\n [ 1.40029232]\n [-2.11811169]\n [-0.93387848]]\n700\n-1.920137944314674\n[[ 0.26047577]\n [ 0.39380256]\n [ 1.46329086]\n [-2.21256466]\n [-0.97682677]]\n800\n-1.6903417276892148\n[[ 0.27043611]\n [ 0.40864065]\n [ 1.5180416 ]\n [-2.29463231]\n [-1.0142282 ]]\n900\n-1.5106545775466247\n[[ 0.27923891]\n [ 0.42172131]\n [ 1.56646995]\n [-2.36720477]\n [-1.0473677 ]]\n"
    }
   ],
   "source": [
    "#Define the Raw implementation function to set the parameters (theta)\n",
    "\n",
    "def fit_implementation(X_train, Y_train, learning_rate=0.0005, max_iteration=1000):\n",
    "    #Adding a column of 1's so that the first element of each input is always 1\n",
    "    #It would be multiplied with theta_0 later\n",
    "    X_train= np.insert(X_train, 0, values=1, axis=1)\n",
    "    no_attributes = X_train.shape[1]\n",
    "    \n",
    "    #Initialize model parameters theta\n",
    "    theta = np.zeros((no_attributes,1))\n",
    "    \n",
    "    #Run number of iterations\n",
    "    for icount in range(max_iteration):\n",
    "        #delta is the quantity that will be added with theta during updating theta\n",
    "        delta = np.zeros((no_attributes,1))\n",
    "        totalLogLikelihood = 0\n",
    "        #Check each data point\n",
    "        for instance, actualOutput in zip(X_train,Y_train):\n",
    "            instance=instance.reshape(no_attributes,1)\n",
    "            dotResult = np.dot(theta.T, instance)\n",
    "            \n",
    "            predictedOutput=sigmoid(dotResult).squeeze()\n",
    "            #Calculate the derivative value for this data point\n",
    "            derivativeValue = instance*(actualOutput-predictedOutput)\n",
    "            #Calculate the amount to be added with theta\n",
    "            delta += learning_rate*derivativeValue\n",
    "\n",
    "            logLikelihood = actualOutput*np.log(predictedOutput)+(1-actualOutput)*np.log(1-predictedOutput)\n",
    "            totalLogLikelihood += logLikelihood\n",
    "        theta = theta + delta\n",
    "        \n",
    "        #After each 100 iteration, print the status\n",
    "        if icount%100==0:\n",
    "            print(icount)\n",
    "            print(totalLogLikelihood)\n",
    "            print(theta)\n",
    "    #print(theta.shape)\n",
    "    \n",
    "    return theta\n",
    "\n",
    "def fit_implementation2(X_train, Y_train, learning_rate=0.0005, max_iteration=1000):\n",
    "    #Adding a column of 1's so that the first element of each input is always 1\n",
    "    #It would be multiplied with theta_0 later\n",
    "    X_train= np.insert(X_train, 0, values=1, axis=1)\n",
    "    no_attributes = X_train.shape[1]\n",
    "    Y_train = Y_train.reshape(-1,1)\n",
    "    \n",
    "    #Initialize model parameters theta\n",
    "    theta = np.zeros((no_attributes,1))\n",
    "    \n",
    "    #Run number of iterations\n",
    "    for icount in range(max_iteration):\n",
    "        #delta is the quantity that will be added with theta during updating theta\n",
    "        delta = np.zeros((no_attributes,1))\n",
    "        totalLogLikelihood = 0\n",
    "        \n",
    "        dotResult = np.dot(X_train,theta)\n",
    "        #print(\"Dot Result: \",dotResult.shape)\n",
    "        predictedValue = sigmoid(dotResult)\n",
    "        #print(\"predictedValue: \",predictedValue.shape)\n",
    "        diff = Y_train - predictedValue\n",
    "        #print(\"diff: \",diff.shape)\n",
    "        derivativeValue = X_train*diff\n",
    "        #print(\"derivativeValue: \",derivativeValue.shape)\n",
    "        delta = learning_rate*derivativeValue\n",
    "        #print(\"delta: \",delta.shape)\n",
    "        delta = np.sum(delta, axis=0).reshape(no_attributes,-1)\n",
    "        #print(\"delta Updated: \",delta.shape)\n",
    "        logLikelihood = Y_train*np.log(predictedValue) + (1-Y_train)*np.log(1-predictedValue)\n",
    "        #print(\"logLikelihood: \",logLikelihood.shape)\n",
    "        totalLogLikelihood = np.sum(logLikelihood)\n",
    "        theta = theta + delta\n",
    "        \n",
    "        #After each 100 iteration, print the status\n",
    "        if icount%100==0:\n",
    "            print(icount)\n",
    "            print(totalLogLikelihood)\n",
    "            print(theta)\n",
    "    #print(theta.shape)\n",
    "    \n",
    "    return theta\n",
    "\n",
    "\n",
    "#parameters = fit_implementation(X_train, Y_train)\n",
    "parameters = fit_implementation2(X_train, Y_train)"
   ]
  },
  {
   "cell_type": "code",
   "execution_count": 5,
   "metadata": {
    "tags": []
   },
   "outputs": [
    {
     "output_type": "stream",
     "name": "stdout",
     "text": "Total Correct Count:  20  Total Wrong Count:  0  Accuracy:  100.0\n"
    }
   ],
   "source": [
    "def prediction(X_test, Y_test, theta):\n",
    "    #Adding a column of 1's so that the first element of each input is always 1\n",
    "    #It would be multiplied with theta_0 later\n",
    "    X_test= np.insert(X_test, 0, values=1, axis=1)\n",
    "    no_attributes = X_test.shape[1]\n",
    "    \n",
    "    correctCount = 0\n",
    "    totalCount = 0\n",
    "    \n",
    "    Y_test = Y_test.reshape(-1,1)\n",
    "    dotResult = np.dot(X_test,theta)\n",
    "    predictedValue = sigmoid(dotResult)\n",
    "    #print(list(zip(predictedValue, Y_test)))\n",
    "    predictedOutput = (predictedValue >= 0.5).astype(int)\n",
    "    resultMatrix = (Y_test == predictedOutput).astype(int)\n",
    "    correctCount = np.sum(resultMatrix)\n",
    "    totalCount = len(resultMatrix)\n",
    "    print(\"Total Correct Count: \",correctCount,\" Total Wrong Count: \",totalCount-correctCount,\" Accuracy: \",(correctCount*100)/(totalCount))\n",
    "\n",
    "prediction(X_test, Y_test, parameters)"
   ]
  },
  {
   "cell_type": "code",
   "execution_count": null,
   "metadata": {},
   "outputs": [],
   "source": []
  }
 ],
 "metadata": {
  "kernelspec": {
   "display_name": "Python 3",
   "language": "python",
   "name": "python3"
  },
  "language_info": {
   "codemirror_mode": {
    "name": "ipython",
    "version": 3
   },
   "file_extension": ".py",
   "mimetype": "text/x-python",
   "name": "python",
   "nbconvert_exporter": "python",
   "pygments_lexer": "ipython3",
   "version": "3.7.3-final"
  }
 },
 "nbformat": 4,
 "nbformat_minor": 2
}
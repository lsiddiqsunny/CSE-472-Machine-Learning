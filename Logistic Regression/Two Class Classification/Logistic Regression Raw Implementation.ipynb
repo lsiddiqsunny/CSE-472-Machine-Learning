{
 "cells": [
  {
   "cell_type": "code",
   "execution_count": 1,
   "metadata": {},
   "outputs": [],
   "source": [
    "#Import required python modules\n",
    "import numpy as np \n",
    "from sklearn import linear_model "
   ]
  },
  {
   "cell_type": "code",
   "execution_count": 2,
   "metadata": {},
   "outputs": [],
   "source": [
    "#load data from file\n",
    "data = np.genfromtxt('iris.csv', delimiter=',',skip_header=True)\n",
    "\n",
    "#Distribute data into train and test sets\n",
    "X_train = data[:80,[0,1,2,3]]\n",
    "Y_train = data[:80,5]\n",
    "\n",
    "X_test = data[-20:,[0,1,2,3]]\n",
    "Y_test = data[-20:,5]"
   ]
  },
  {
   "cell_type": "code",
   "execution_count": 3,
   "metadata": {},
   "outputs": [],
   "source": [
    "#Define the required Sigmoid function\n",
    "def sigmoid(z):\n",
    "    return 1/(1+np.exp(-z))"
   ]
  },
  {
   "cell_type": "code",
   "execution_count": 4,
   "metadata": {
    "tags": []
   },
   "outputs": [
    {
     "output_type": "stream",
     "name": "stdout",
     "text": "0\n-55.451774444795646\n[[ 0.      ]\n [-0.009725]\n [ 0.0066  ]\n [-0.02855 ]\n [-0.011175]]\n100\n-11.743797936695358\n[[ 0.12128412]\n [ 0.18112537]\n [ 0.69729525]\n [-1.06492132]\n [-0.46220067]]\n200\n-6.299389109303773\n[[ 0.16878723]\n [ 0.25502814]\n [ 0.95980853]\n [-1.45763631]\n [-0.63651892]]\n300\n-4.3043061196194445\n[[ 0.1979695 ]\n [ 0.29967412]\n [ 1.12020526]\n [-1.69806549]\n [-0.74416005]]\n400\n-3.2751399944391686\n[[ 0.21902153]\n [ 0.33158634]\n [ 1.23573927]\n [-1.8713324 ]\n [-0.82216338]]\n500\n-2.6474995606354796\n[[ 0.23548623]\n [ 0.35639062]\n [ 1.32608088]\n [-2.00682483]\n [-0.88341048]]\n600\n-2.2246003867464386\n[[ 0.24900609]\n [ 0.37666497]\n [ 1.40029232]\n [-2.11811169]\n [-0.93387848]]\n700\n-1.9201379443146736\n[[ 0.26047577]\n [ 0.39380256]\n [ 1.46329086]\n [-2.21256466]\n [-0.97682677]]\n800\n-1.6903417276892148\n[[ 0.27043611]\n [ 0.40864065]\n [ 1.5180416 ]\n [-2.29463231]\n [-1.0142282 ]]\n900\n-1.510654577546624\n[[ 0.27923891]\n [ 0.42172131]\n [ 1.56646995]\n [-2.36720477]\n [-1.0473677 ]]\n"
    }
   ],
   "source": [
    "#Define the Raw implementation function to set the parameters (theta)\n",
    "\n",
    "def fit_implementation(X_train, Y_train, learning_rate=0.0005, max_iteration=1000):\n",
    "    #Adding a column of 1's so that the first element of each input is always 1\n",
    "    #It would be multiplied with theta_0 later\n",
    "    X_train= np.insert(X_train, 0, values=1, axis=1)\n",
    "    no_attributes = X_train.shape[1]\n",
    "    \n",
    "    #Initialize model parameters theta\n",
    "    theta = np.zeros((no_attributes,1))\n",
    "    \n",
    "    #Run number of iterations\n",
    "    for icount in range(max_iteration):\n",
    "        #delta is the quantity that will be added with theta during updating theta\n",
    "        delta = np.zeros((no_attributes,1))\n",
    "        totalLogLikelihood = 0\n",
    "        #Check each data point\n",
    "        for instance, actualOutput in zip(X_train,Y_train):\n",
    "            instance=instance.reshape(no_attributes,1)\n",
    "            dotResult = np.dot(theta.T, instance)\n",
    "            \n",
    "            predictedValue=sigmoid(dotResult).squeeze()\n",
    "            #Calculate the derivative value for this data point\n",
    "            derivativeValue = instance*(actualOutput-predictedValue)\n",
    "            #Calculate the amount to be added with theta\n",
    "            delta += learning_rate*derivativeValue\n",
    "\n",
    "            logLikelihood = actualOutput*np.log(predictedValue)+(1-actualOutput)*np.log(1-predictedValue)\n",
    "            totalLogLikelihood += logLikelihood\n",
    "        theta = theta + delta\n",
    "        \n",
    "        #After each 100 iteration, print the status\n",
    "        if icount%100==0:\n",
    "            print(icount)\n",
    "            print(totalLogLikelihood)\n",
    "            print(theta)\n",
    "    #print(theta.shape)\n",
    "    \n",
    "    return theta\n",
    "\n",
    "\n",
    "parameters = fit_implementation(X_train, Y_train)"
   ]
  },
  {
   "cell_type": "code",
   "execution_count": 5,
   "metadata": {
    "tags": []
   },
   "outputs": [
    {
     "output_type": "stream",
     "name": "stdout",
     "text": "0.005843420174785157 0.0\n0.007142666796493177 0.0\n0.01739664292145254 0.0\n0.04993088807252141 0.0\n0.010418956479142625 0.0\n0.01945900413556282 0.0\n0.014943426943600038 0.0\n0.014558137483623515 0.0\n0.1235906750910857 0.0\n0.016203190234137476 0.0\n0.9900735083720652 1.0\n0.9208927529978683 1.0\n0.9814293710741085 1.0\n0.9720780831436339 1.0\n0.972403312348781 1.0\n0.9697635609932154 1.0\n0.9890881941176695 1.0\n0.9783513337192419 1.0\n0.9907680978898962 1.0\n0.9844066598433767 1.0\nTotal Correct Count:  20  Total Wrong Count:  0  Accuracy:  100.0\n"
    }
   ],
   "source": [
    "def prediction(X_test, Y_test, theta):\n",
    "    #Adding a column of 1's so that the first element of each input is always 1\n",
    "    #It would be multiplied with theta_0 later\n",
    "    X_test= np.insert(X_test, 0, values=1, axis=1)\n",
    "    no_attributes = X_test.shape[1]\n",
    "    \n",
    "    correctCount = 0\n",
    "    totalCount = 0\n",
    "    \n",
    "    #Check each data point\n",
    "    for instance, actualOutput in zip(X_test,Y_test):\n",
    "            instance=instance.reshape(no_attributes,1)\n",
    "            dotResult = np.dot(theta.T, instance)\n",
    "            #Calculated the probability of belonging to class 1\n",
    "            predictedValue=sigmoid(dotResult).squeeze()\n",
    "            \n",
    "            if predictedValue >= 0.5:\n",
    "                predictedOutput = 1\n",
    "            else:\n",
    "                predictedOutput = 0\n",
    "            print(predictedValue, actualOutput)\n",
    "            if predictedOutput == actualOutput:\n",
    "                correctCount += 1\n",
    "            totalCount += 1\n",
    "    print(\"Total Correct Count: \",correctCount,\" Total Wrong Count: \",totalCount-correctCount,\" Accuracy: \",(correctCount*100)/(totalCount))\n",
    "    \n",
    "prediction(X_test, Y_test, parameters)"
   ]
  },
  {
   "cell_type": "code",
   "execution_count": null,
   "metadata": {},
   "outputs": [],
   "source": []
  }
 ],
 "metadata": {
  "kernelspec": {
   "display_name": "Python 3",
   "language": "python",
   "name": "python3"
  },
  "language_info": {
   "codemirror_mode": {
    "name": "ipython",
    "version": 3
   },
   "file_extension": ".py",
   "mimetype": "text/x-python",
   "name": "python",
   "nbconvert_exporter": "python",
   "pygments_lexer": "ipython3",
   "version": "3.7.3-final"
  }
 },
 "nbformat": 4,
 "nbformat_minor": 2
}
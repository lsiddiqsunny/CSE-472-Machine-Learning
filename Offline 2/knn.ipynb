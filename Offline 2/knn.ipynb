{
 "metadata": {
  "language_info": {
   "codemirror_mode": {
    "name": "ipython",
    "version": 3
   },
   "file_extension": ".py",
   "mimetype": "text/x-python",
   "name": "python",
   "nbconvert_exporter": "python",
   "pygments_lexer": "ipython3",
   "version": "3.7.3-final"
  },
  "orig_nbformat": 2,
  "kernelspec": {
   "name": "python37364bitdeeplearningcondaeffde72656b44ccc9f803edcd0e403e5",
   "display_name": "Python 3.7.3 64-bit ('deep-learning': conda)",
   "metadata": {
    "interpreter": {
     "hash": "18a2e600c03f756d0e3d157c29057f1563464d8816fdf409e1be001e9561fe0e"
    }
   }
  }
 },
 "nbformat": 4,
 "nbformat_minor": 2,
 "cells": [
  {
   "cell_type": "code",
   "execution_count": 1,
   "metadata": {},
   "outputs": [],
   "source": [
    "import pandas as pd \n",
    "import numpy as np\n",
    "import nltk\n",
    "from nltk.tokenize import word_tokenize\n",
    "from nltk.corpus import stopwords\n",
    "from nltk.stem import WordNetLemmatizer\n",
    "from nltk.stem import PorterStemmer"
   ]
  },
  {
   "cell_type": "code",
   "execution_count": 2,
   "metadata": {},
   "outputs": [],
   "source": [
    "def dataset(path,isTest = False):\n",
    "    data = pd.read_csv(path)\n",
    "    data.shape\n",
    "    grouped = data.groupby('Topic')\n",
    "\n",
    "    new_df = pd.DataFrame([], columns = data.columns)\n",
    "\n",
    "    for key, values in grouped:\n",
    "        if isTest:\n",
    "            new_df = pd.concat([new_df, grouped.get_group(key)[50:50+20]], 0,ignore_index=True)\n",
    "        else:\n",
    "            new_df = pd.concat([new_df, grouped.get_group(key)[:50]], 0,ignore_index=True)\n",
    "    return new_df"
   ]
  },
  {
   "cell_type": "code",
   "execution_count": 3,
   "metadata": {
    "tags": []
   },
   "outputs": [
    {
     "output_type": "execute_result",
     "data": {
      "text/plain": "(149, 2)"
     },
     "metadata": {},
     "execution_count": 3
    }
   ],
   "source": [
    "train_data = dataset('./Data/train.csv')\n",
    "nan_value = float(\"NaN\")\n",
    "train_data.replace(\"\", nan_value, inplace=True)\n",
    "train_data.dropna( inplace=True)\n",
    "train_data.reset_index(drop=True,inplace=True)\n",
    "train_data.shape"
   ]
  },
  {
   "cell_type": "code",
   "execution_count": 4,
   "metadata": {
    "tags": []
   },
   "outputs": [],
   "source": [
    "i = 0\n",
    "topic_map = {}\n",
    "topic_map_reverse = {}\n",
    "for topic in set(train_data['Topic']):\n",
    "    topic_map[topic] = i\n",
    "    topic_map_reverse[i] = topic\n",
    "    i+=1\n",
    "total_topic = i\n"
   ]
  },
  {
   "cell_type": "code",
   "execution_count": 5,
   "metadata": {
    "tags": []
   },
   "outputs": [
    {
     "output_type": "stream",
     "name": "stdout",
     "text": "2208\n"
    }
   ],
   "source": [
    "vocabulary = {}\n",
    "pos = 0\n",
    "for i in range(train_data.shape[0]):\n",
    "    text =train_data['Body'][i]\n",
    "    if text == None or str(text) == 'nan' or len(text) == 0:\n",
    "        continue\n",
    "    text = word_tokenize(text)\n",
    "    stop_words = set(stopwords.words('english'))\n",
    "    text = [word for word in text if not word in stop_words]\n",
    "    lemmatizer=WordNetLemmatizer()\n",
    "    text = [lemmatizer.lemmatize(word) for word in text]\n",
    "    stemmer= PorterStemmer()\n",
    "    text = [stemmer.stem(word) for word in text]\n",
    "\n",
    "    for word in text:\n",
    "        if word not in vocabulary.keys():\n",
    "\n",
    "            vocabulary[word] = pos\n",
    "            pos+=1\n",
    "total_vocabulary_size = pos\n",
    "print(pos)"
   ]
  },
  {
   "cell_type": "code",
   "execution_count": 6,
   "metadata": {},
   "outputs": [],
   "source": [
    "binray_vectors = []\n",
    "for i in range(train_data.shape[0]):\n",
    "    binray_vector = []\n",
    "    for i in range(total_vocabulary_size):\n",
    "        binray_vector.append(0)\n",
    "    binray_vectors.append(binray_vector)"
   ]
  },
  {
   "cell_type": "code",
   "execution_count": 7,
   "metadata": {},
   "outputs": [],
   "source": [
    "for i in range(train_data.shape[0]):\n",
    "    text =train_data['Body'][i]\n",
    "    if text == None or str(text) == 'nan' or len(text) == 0:\n",
    "        continue\n",
    "\n",
    "    text = word_tokenize(text)\n",
    "\n",
    "    stop_words = set(stopwords.words('english'))\n",
    "    text = [word for word in text if not word in stop_words]\n",
    "\n",
    "    lemmatizer=WordNetLemmatizer()\n",
    "    text = [lemmatizer.lemmatize(word) for word in text]\n",
    "\n",
    "    stemmer= PorterStemmer()\n",
    "    text = [stemmer.stem(word) for word in text]\n",
    "    for word in text:\n",
    "        pos = vocabulary[word]\n",
    "        binray_vectors[i][pos]=1"
   ]
  },
  {
   "cell_type": "code",
   "execution_count": 8,
   "metadata": {},
   "outputs": [
    {
     "output_type": "execute_result",
     "data": {
      "text/plain": "(60, 2)"
     },
     "metadata": {},
     "execution_count": 8
    }
   ],
   "source": [
    "test_data = dataset('./Data/train.csv',True)\n",
    "nan_value = float(\"NaN\")\n",
    "test_data.replace(\"\", nan_value, inplace=True)\n",
    "test_data.dropna( inplace=True)\n",
    "test_data.reset_index(drop=True,inplace=True)\n",
    "test_data.shape"
   ]
  },
  {
   "cell_type": "code",
   "execution_count": 9,
   "metadata": {
    "tags": []
   },
   "outputs": [
    {
     "output_type": "stream",
     "name": "stdout",
     "text": "Predicted:  Anime  Target:  Anime\nPredicted:  Anime  Target:  Anime\nPredicted:  Anime  Target:  Anime\nPredicted:  Anime  Target:  Anime\nPredicted:  Arduino  Target:  Anime\nPredicted:  Arduino  Target:  Anime\nPredicted:  Coffee  Target:  Anime\nPredicted:  Arduino  Target:  Anime\nPredicted:  Arduino  Target:  Anime\nPredicted:  Anime  Target:  Anime\nPredicted:  Anime  Target:  Anime\nPredicted:  Anime  Target:  Anime\nPredicted:  Anime  Target:  Anime\nPredicted:  Anime  Target:  Anime\nPredicted:  Coffee  Target:  Anime\nPredicted:  Arduino  Target:  Anime\nPredicted:  Arduino  Target:  Anime\nPredicted:  Anime  Target:  Anime\nPredicted:  Coffee  Target:  Anime\nPredicted:  Coffee  Target:  Anime\nPredicted:  Arduino  Target:  Arduino\nPredicted:  Arduino  Target:  Arduino\nPredicted:  Arduino  Target:  Arduino\nPredicted:  Arduino  Target:  Arduino\nPredicted:  Arduino  Target:  Arduino\nPredicted:  Arduino  Target:  Arduino\nPredicted:  Arduino  Target:  Arduino\nPredicted:  Arduino  Target:  Arduino\nPredicted:  Arduino  Target:  Arduino\nPredicted:  Arduino  Target:  Arduino\nPredicted:  Arduino  Target:  Arduino\nPredicted:  Arduino  Target:  Arduino\nPredicted:  Arduino  Target:  Arduino\nPredicted:  Arduino  Target:  Arduino\nPredicted:  Arduino  Target:  Arduino\nPredicted:  Arduino  Target:  Arduino\nPredicted:  Arduino  Target:  Arduino\nPredicted:  Arduino  Target:  Arduino\nPredicted:  Arduino  Target:  Arduino\nPredicted:  Arduino  Target:  Arduino\nPredicted:  Coffee  Target:  Coffee\nPredicted:  Coffee  Target:  Coffee\nPredicted:  Arduino  Target:  Coffee\nPredicted:  Coffee  Target:  Coffee\nPredicted:  Coffee  Target:  Coffee\nPredicted:  Coffee  Target:  Coffee\nPredicted:  Coffee  Target:  Coffee\nPredicted:  Anime  Target:  Coffee\nPredicted:  Coffee  Target:  Coffee\nPredicted:  Coffee  Target:  Coffee\nPredicted:  Coffee  Target:  Coffee\nPredicted:  Coffee  Target:  Coffee\nPredicted:  Coffee  Target:  Coffee\nPredicted:  Coffee  Target:  Coffee\nPredicted:  Coffee  Target:  Coffee\nPredicted:  Coffee  Target:  Coffee\nPredicted:  Coffee  Target:  Coffee\nPredicted:  Coffee  Target:  Coffee\nPredicted:  Coffee  Target:  Coffee\nPredicted:  Coffee  Target:  Coffee\nMiss:  12  Correct:  48  Accuracy:  80.0\n"
    }
   ],
   "source": [
    "miss = 0\n",
    "\n",
    "k = 1\n",
    "\n",
    "for l in range(test_data.shape[0]):\n",
    "    text = test_data['Body'][l]\n",
    "    test_vector = []\n",
    "    for i in range(total_vocabulary_size):\n",
    "        test_vector.append(0)\n",
    "    if text == None or str(text) == 'nan' or len(text) == 0:\n",
    "        continue\n",
    "\n",
    "    text = word_tokenize(text)\n",
    "    stop_words = set(stopwords.words('english'))\n",
    "    text = [word for word in text if not word in stop_words]\n",
    "\n",
    "    lemmatizer=WordNetLemmatizer()\n",
    "    text = [lemmatizer.lemmatize(word) for word in text]\n",
    "    stemmer= PorterStemmer()\n",
    "    text = [stemmer.stem(word) for word in text]\n",
    "    for word in text:\n",
    "        if word not in vocabulary.keys():\n",
    "            continue\n",
    "        else:\n",
    "            pos  = vocabulary[word]\n",
    "            test_vector[pos] = 1\n",
    "    hamming_distance = []\n",
    "    for i in range(len(binray_vectors)):\n",
    "        hamming_distance.append(0)\n",
    "    for i in range(total_vocabulary_size):\n",
    "        for j in range(len(binray_vectors)):\n",
    "            hamming_distance[j]+= abs(binray_vectors[j][i]-test_vector[i]) \n",
    "    prediction = -1\n",
    "    if k==1:\n",
    "        prediction = np.argmin(hamming_distance)\n",
    "        prediction = train_data['Topic'][prediction]\n",
    "    if k==3:\n",
    "        prediction = np.argsort(hamming_distance)[:5]\n",
    "        topic_list = []\n",
    "        for i in range(3):\n",
    "            topic_list.append(train_data['Topic'][prediction[i]])\n",
    "        prediction = max(set(topic_list), key = topic_list.count) \n",
    "    if k==5:\n",
    "        prediction = np.argsort(hamming_distance)[:5]\n",
    "        topic_list = []\n",
    "        for i in range(5):\n",
    "            topic_list.append(train_data['Topic'][prediction[i]])\n",
    "        prediction = max(set(topic_list), key = topic_list.count) \n",
    "\n",
    "    \n",
    "    if prediction != test_data['Topic'][l]:\n",
    "        miss+=1\n",
    "    print('Predicted: ',prediction,' Target: ',test_data['Topic'][l])\n",
    "    #break\n",
    "    \n",
    "print('Miss: ',miss,' Correct: ',test_data.shape[0]-miss,' Accuracy: ',((test_data.shape[0]-miss)*100)/test_data.shape[0])"
   ]
  },
  {
   "cell_type": "code",
   "execution_count": 10,
   "metadata": {
    "tags": []
   },
   "outputs": [
    {
     "output_type": "stream",
     "name": "stdout",
     "text": "149\n"
    }
   ],
   "source": [
    "BoWs = []\n",
    "for i in range(train_data.shape[0]):\n",
    "    BoW = []\n",
    "    for j in range(total_vocabulary_size):\n",
    "        BoW.append(0)\n",
    "    BoWs.append(BoW)\n",
    "print(len(BoWs))"
   ]
  },
  {
   "cell_type": "code",
   "execution_count": 11,
   "metadata": {},
   "outputs": [],
   "source": [
    "for i in range(train_data.shape[0]):\n",
    "    text =train_data['Body'][i]\n",
    "    if text == None or str(text) == 'nan' or len(text) == 0:\n",
    "        continue\n",
    "\n",
    "    text = word_tokenize(text)\n",
    "    stop_words = set(stopwords.words('english'))\n",
    "    text = [word for word in text if not word in stop_words]\n",
    "    lemmatizer=WordNetLemmatizer()\n",
    "    text = [lemmatizer.lemmatize(word) for word in text]\n",
    "    stemmer= PorterStemmer()\n",
    "    text = [stemmer.stem(word) for word in text]\n",
    "    for word in text:\n",
    "        pos = vocabulary[word]\n",
    "        BoWs[i][pos]+=1\n",
    "    "
   ]
  },
  {
   "cell_type": "code",
   "execution_count": 12,
   "metadata": {
    "tags": []
   },
   "outputs": [
    {
     "output_type": "stream",
     "name": "stdout",
     "text": "Predicted:  Coffee  Target:  Anime\nPredicted:  Coffee  Target:  Anime\nPredicted:  Coffee  Target:  Anime\nPredicted:  Anime  Target:  Anime\nPredicted:  Coffee  Target:  Anime\nPredicted:  Coffee  Target:  Anime\nPredicted:  Coffee  Target:  Anime\nPredicted:  Coffee  Target:  Anime\nPredicted:  Coffee  Target:  Anime\nPredicted:  Coffee  Target:  Anime\nPredicted:  Anime  Target:  Anime\nPredicted:  Anime  Target:  Anime\nPredicted:  Anime  Target:  Anime\nPredicted:  Anime  Target:  Anime\nPredicted:  Coffee  Target:  Anime\nPredicted:  Coffee  Target:  Anime\nPredicted:  Coffee  Target:  Anime\nPredicted:  Coffee  Target:  Anime\nPredicted:  Coffee  Target:  Anime\nPredicted:  Anime  Target:  Anime\nPredicted:  Arduino  Target:  Arduino\nPredicted:  Coffee  Target:  Arduino\nPredicted:  Coffee  Target:  Arduino\nPredicted:  Coffee  Target:  Arduino\nPredicted:  Arduino  Target:  Arduino\nPredicted:  Arduino  Target:  Arduino\nPredicted:  Arduino  Target:  Arduino\nPredicted:  Arduino  Target:  Arduino\nPredicted:  Coffee  Target:  Arduino\nPredicted:  Arduino  Target:  Arduino\nPredicted:  Coffee  Target:  Arduino\nPredicted:  Arduino  Target:  Arduino\nPredicted:  Arduino  Target:  Arduino\nPredicted:  Arduino  Target:  Arduino\nPredicted:  Arduino  Target:  Arduino\nPredicted:  Coffee  Target:  Arduino\nPredicted:  Arduino  Target:  Arduino\nPredicted:  Arduino  Target:  Arduino\nPredicted:  Arduino  Target:  Arduino\nPredicted:  Arduino  Target:  Arduino\nPredicted:  Coffee  Target:  Coffee\nPredicted:  Coffee  Target:  Coffee\nPredicted:  Coffee  Target:  Coffee\nPredicted:  Coffee  Target:  Coffee\nPredicted:  Coffee  Target:  Coffee\nPredicted:  Coffee  Target:  Coffee\nPredicted:  Coffee  Target:  Coffee\nPredicted:  Coffee  Target:  Coffee\nPredicted:  Coffee  Target:  Coffee\nPredicted:  Coffee  Target:  Coffee\nPredicted:  Coffee  Target:  Coffee\nPredicted:  Arduino  Target:  Coffee\nPredicted:  Coffee  Target:  Coffee\nPredicted:  Coffee  Target:  Coffee\nPredicted:  Coffee  Target:  Coffee\nPredicted:  Coffee  Target:  Coffee\nPredicted:  Coffee  Target:  Coffee\nPredicted:  Coffee  Target:  Coffee\nPredicted:  Coffee  Target:  Coffee\nPredicted:  Coffee  Target:  Coffee\nMiss:  21  Correct:  39  Accuracy:  65.0\n"
    }
   ],
   "source": [
    "miss = 0\n",
    "\n",
    "k = 3\n",
    "\n",
    "for l in range(test_data.shape[0]):\n",
    "    text = test_data['Body'][l]\n",
    "    test_vector = []\n",
    "    for i in range(total_vocabulary_size):\n",
    "        test_vector.append(0)\n",
    "    if text == None or str(text) == 'nan' or len(text) == 0:\n",
    "        continue\n",
    "\n",
    "    text = word_tokenize(text)\n",
    "    stop_words = set(stopwords.words('english'))\n",
    "    text = [word for word in text if not word in stop_words]\n",
    "\n",
    "    lemmatizer=WordNetLemmatizer()\n",
    "    text = [lemmatizer.lemmatize(word) for word in text]\n",
    "\n",
    "    stemmer= PorterStemmer()\n",
    "    text = [stemmer.stem(word) for word in text]\n",
    "    \n",
    "    for word in text:\n",
    "        if word not in vocabulary.keys():\n",
    "            continue\n",
    "        else:\n",
    "            pos  = vocabulary[word]\n",
    "            test_vector[pos] += 1\n",
    "    euclidean_distance = []\n",
    "    for i in range(len(BoWs)):\n",
    "        euclidean_distance.append(0)\n",
    "    for i in range(total_vocabulary_size):\n",
    "        for j in range(len(BoWs)):\n",
    "            euclidean_distance[j]+= (BoWs[j][i]-test_vector[i])**2 \n",
    "    prediction = -1\n",
    "    if k==1:\n",
    "        prediction = np.argmin(euclidean_distance)\n",
    "        prediction = train_data['Topic'][prediction]\n",
    "    if k==3:\n",
    "        prediction = np.argsort(euclidean_distance)[:3]\n",
    "        topic_list = []\n",
    "        for i in range(3):\n",
    "            topic_list.append(train_data['Topic'][prediction[i]])\n",
    "        prediction = max(set(topic_list), key = topic_list.count) \n",
    "    if k==5:\n",
    "        prediction = np.argsort(euclidean_distance)[:5]\n",
    "        #print(prediction)\n",
    "        topic_list = []\n",
    "        for i in range(5):\n",
    "            topic_list.append(train_data['Topic'][prediction[i]])\n",
    "        prediction = max(set(topic_list), key = topic_list.count) \n",
    "\n",
    "    \n",
    "    if prediction != test_data['Topic'][l]:\n",
    "        miss+=1\n",
    "    print('Predicted: ',prediction,' Target: ',test_data['Topic'][l])\n",
    "    #break\n",
    "    \n",
    "print('Miss: ',miss,' Correct: ',test_data.shape[0]-miss,' Accuracy: ',((test_data.shape[0]-miss)*100)/test_data.shape[0])"
   ]
  },
  {
   "cell_type": "code",
   "execution_count": 13,
   "metadata": {
    "tags": []
   },
   "outputs": [],
   "source": [
    "total_words = []\n",
    "for i in range(train_data.shape[0]):\n",
    "    total_word = 0\n",
    "    for j in range(total_vocabulary_size):\n",
    "        total_word+=BoWs[i][j]\n",
    "    total_words.append(total_word)\n",
    "\n",
    "TF = []\n",
    "for i in range(train_data.shape[0]):\n",
    "    tf = []\n",
    "    for j in range(total_vocabulary_size):\n",
    "        tf.append(BoWs[i][j]/total_words[i])\n",
    "    TF.append(tf)\n",
    "\n",
    "IDF = []\n",
    "for i in range(train_data.shape[0]):\n",
    "    idf = []\n",
    "    for j in range(total_vocabulary_size):\n",
    "        if BoWs[i][j] == 0:\n",
    "            idf.append(np.log(total_words[i]/(1+BoWs[i][j])))\n",
    "        else:\n",
    "            idf.append(np.log(total_words[i]/(BoWs[i][j])))\n",
    "    IDF.append(idf)\n",
    "\n",
    "TF_IDF = []\n",
    "for i in range(train_data.shape[0]):\n",
    "    tf_idf = []\n",
    "    for j in range(total_vocabulary_size):\n",
    "       tf_idf.append(TF[i][j]*IDF[i][j]) \n",
    "    TF_IDF.append(tf_idf)\n",
    "\n",
    "values = []\n",
    "for i in range(train_data.shape[0]):\n",
    "    value = 0\n",
    "    for j in range(total_vocabulary_size):\n",
    "        value+=BoWs[i][j]**2\n",
    "    values.append(np.sqrt(value))\n",
    "    \n",
    "#print(BoWs[0][:10],TF[0][:10],IDF[0][:10],TF_IDF[0][:10])\n",
    "#print(values)"
   ]
  },
  {
   "cell_type": "code",
   "execution_count": 14,
   "metadata": {
    "tags": []
   },
   "outputs": [
    {
     "output_type": "stream",
     "name": "stdout",
     "text": "Predicted:  Anime  Target:  Anime\nPredicted:  Anime  Target:  Anime\nPredicted:  Anime  Target:  Anime\nPredicted:  Anime  Target:  Anime\nPredicted:  Anime  Target:  Anime\nPredicted:  Arduino  Target:  Anime\nPredicted:  Anime  Target:  Anime\nPredicted:  Anime  Target:  Anime\nPredicted:  Anime  Target:  Anime\nPredicted:  Anime  Target:  Anime\nPredicted:  Anime  Target:  Anime\nPredicted:  Anime  Target:  Anime\nPredicted:  Anime  Target:  Anime\nPredicted:  Anime  Target:  Anime\nPredicted:  Coffee  Target:  Anime\nPredicted:  Coffee  Target:  Anime\nPredicted:  Anime  Target:  Anime\nPredicted:  Arduino  Target:  Anime\nPredicted:  Coffee  Target:  Anime\nPredicted:  Anime  Target:  Anime\nPredicted:  Arduino  Target:  Arduino\nPredicted:  Arduino  Target:  Arduino\nPredicted:  Arduino  Target:  Arduino\nPredicted:  Arduino  Target:  Arduino\nPredicted:  Arduino  Target:  Arduino\nPredicted:  Arduino  Target:  Arduino\nPredicted:  Arduino  Target:  Arduino\nPredicted:  Arduino  Target:  Arduino\nPredicted:  Arduino  Target:  Arduino\nPredicted:  Arduino  Target:  Arduino\nPredicted:  Arduino  Target:  Arduino\nPredicted:  Arduino  Target:  Arduino\nPredicted:  Arduino  Target:  Arduino\nPredicted:  Arduino  Target:  Arduino\nPredicted:  Arduino  Target:  Arduino\nPredicted:  Arduino  Target:  Arduino\nPredicted:  Arduino  Target:  Arduino\nPredicted:  Arduino  Target:  Arduino\nPredicted:  Arduino  Target:  Arduino\nPredicted:  Arduino  Target:  Arduino\nPredicted:  Coffee  Target:  Coffee\nPredicted:  Coffee  Target:  Coffee\nPredicted:  Anime  Target:  Coffee\nPredicted:  Coffee  Target:  Coffee\nPredicted:  Coffee  Target:  Coffee\nPredicted:  Coffee  Target:  Coffee\nPredicted:  Coffee  Target:  Coffee\nPredicted:  Coffee  Target:  Coffee\nPredicted:  Coffee  Target:  Coffee\nPredicted:  Coffee  Target:  Coffee\nPredicted:  Coffee  Target:  Coffee\nPredicted:  Arduino  Target:  Coffee\nPredicted:  Coffee  Target:  Coffee\nPredicted:  Coffee  Target:  Coffee\nPredicted:  Coffee  Target:  Coffee\nPredicted:  Coffee  Target:  Coffee\nPredicted:  Coffee  Target:  Coffee\nPredicted:  Coffee  Target:  Coffee\nPredicted:  Coffee  Target:  Coffee\nPredicted:  Coffee  Target:  Coffee\nMiss:  7  Correct:  53  Accuracy:  88.33333333333333\n"
    }
   ],
   "source": [
    "miss = 0\n",
    "\n",
    "k = 3\n",
    "\n",
    "for l in range(test_data.shape[0]):\n",
    "    text = test_data['Body'][l]\n",
    "    test_vector = []\n",
    "    for i in range(total_vocabulary_size):\n",
    "        test_vector.append(0)\n",
    "\n",
    "    if text == None or str(text) == 'nan' or len(text) == 0:\n",
    "        continue\n",
    "\n",
    "    text = word_tokenize(text)\n",
    "    stop_words = set(stopwords.words('english'))\n",
    "    text = [word for word in text if not word in stop_words]\n",
    "    lemmatizer=WordNetLemmatizer()\n",
    "    text = [lemmatizer.lemmatize(word) for word in text]\n",
    "    stemmer= PorterStemmer()\n",
    "    text = [stemmer.stem(word) for word in text]\n",
    "\n",
    "    total_word = 0\n",
    "    for word in text:\n",
    "        if word not in vocabulary.keys():\n",
    "            continue\n",
    "        else:\n",
    "            pos  = vocabulary[word]\n",
    "            test_vector[pos] += 1\n",
    "            total_word += 1\n",
    "\n",
    "    test_value = 0\n",
    "    for i in range(len(test_vector)):\n",
    "        test_vector[i]/=total_word\n",
    "        if test_vector[i] == 0:\n",
    "            test_vector[i]*=np.log(total_word/(1+test_vector[i]))\n",
    "        else:\n",
    "            test_vector[i]*=np.log(total_word/(test_vector[i]))\n",
    "        test_value += test_vector[i]**2\n",
    "    test_value = np.sqrt(test_value)\n",
    "    \n",
    "    \n",
    "    cossian_similarity = []\n",
    "    for i in range(len(TF_IDF)):\n",
    "        cossian_similarity.append(0)\n",
    "    for i in range(total_vocabulary_size):\n",
    "        for j in range(len(BoWs)):\n",
    "            cossian_similarity[j]+= (TF_IDF[j][i]*test_vector[i])/(test_value*values[j])\n",
    "    #print(cossian_similarity)\n",
    "\n",
    "    prediction = -1\n",
    "    if k==1:\n",
    "        prediction = np.argmax(cossian_similarity)\n",
    "        prediction = train_data['Topic'][prediction]\n",
    "    if k==3:\n",
    "        prediction = np.argsort(cossian_similarity)[-3:]\n",
    "        #print(prediction)\n",
    "        topic_list = []\n",
    "        for i in range(3):\n",
    "            topic_list.append(train_data['Topic'][prediction[i]])\n",
    "        prediction = max(set(topic_list), key = topic_list.count) \n",
    "    if k==5:\n",
    "        prediction = np.argsort(cossian_similarity)[-3:]\n",
    "        topic_list = []\n",
    "        for i in range(5):\n",
    "            topic_list.append(train_data['Topic'][prediction[i]])\n",
    "        prediction = max(set(topic_list), key = topic_list.count) \n",
    "\n",
    "    \n",
    "    if prediction != test_data['Topic'][l]:\n",
    "        miss+=1\n",
    "    print('Predicted: ',prediction,' Target: ',test_data['Topic'][l])\n",
    "    #break\n",
    "    \n",
    "print('Miss: ',miss,' Correct: ',test_data.shape[0]-miss,' Accuracy: ',((test_data.shape[0]-miss)*100)/test_data.shape[0])"
   ]
  },
  {
   "cell_type": "code",
   "execution_count": 15,
   "metadata": {
    "tags": []
   },
   "outputs": [],
   "source": [
    "alpha = 1\n",
    "topic_prob = []\n",
    "for i in range(total_topic):\n",
    "    topic_count = 0\n",
    "    for j in range(train_data.shape[0]):\n",
    "        topic_name = train_data['Topic'][j]\n",
    "        if topic_map[topic_name] == i:\n",
    "            topic_count += 1\n",
    "    topic_prob.append(topic_count/train_data.shape[0])\n",
    "word_prob = []\n",
    "for i in range(total_vocabulary_size):\n",
    "    topic_word = []\n",
    "    for j in range(total_topic):\n",
    "        topic_word.append(0)\n",
    "    word_prob.append(topic_word)\n",
    "for i in range(train_data.shape[0]):\n",
    "    text = train_data['Body'][i]\n",
    "    if text == None or str(text) == 'nan' or len(text) == 0:\n",
    "        continue\n",
    "\n",
    "    text = word_tokenize(text)\n",
    "\n",
    "    stop_words = set(stopwords.words('english'))\n",
    "    text = [word for word in text if not word in stop_words]\n",
    "\n",
    "    lemmatizer=WordNetLemmatizer()\n",
    "    text = [lemmatizer.lemmatize(word) for word in text]\n",
    "\n",
    "    stemmer= PorterStemmer()\n",
    "    text = [stemmer.stem(word) for word in text]\n",
    "    for word in text:\n",
    "        pos = vocabulary[word]\n",
    "        topic_pos = topic_map[train_data['Topic'][i]]\n",
    "        word_prob[pos][topic_pos]+=1\n",
    "\n",
    "column_sums = np.array(word_prob).sum(axis=0)\n",
    "for i in range(total_vocabulary_size):\n",
    "    for j in range(total_topic):\n",
    "        word_prob[i][j] = (word_prob[i][j]+alpha)/(column_sums[j]+ alpha*total_vocabulary_size)\n",
    "#print(word_prob[0:10])"
   ]
  },
  {
   "cell_type": "code",
   "execution_count": 16,
   "metadata": {
    "tags": []
   },
   "outputs": [
    {
     "output_type": "stream",
     "name": "stdout",
     "text": "Predicted:  Anime  Target:  Anime\nPredicted:  Anime  Target:  Anime\nPredicted:  Anime  Target:  Anime\nPredicted:  Anime  Target:  Anime\nPredicted:  Anime  Target:  Anime\nPredicted:  Anime  Target:  Anime\nPredicted:  Anime  Target:  Anime\nPredicted:  Anime  Target:  Anime\nPredicted:  Anime  Target:  Anime\nPredicted:  Anime  Target:  Anime\nPredicted:  Coffee  Target:  Anime\nPredicted:  Anime  Target:  Anime\nPredicted:  Anime  Target:  Anime\nPredicted:  Anime  Target:  Anime\nPredicted:  Anime  Target:  Anime\nPredicted:  Anime  Target:  Anime\nPredicted:  Anime  Target:  Anime\nPredicted:  Anime  Target:  Anime\nPredicted:  Anime  Target:  Anime\nPredicted:  Coffee  Target:  Anime\nPredicted:  Arduino  Target:  Arduino\nPredicted:  Arduino  Target:  Arduino\nPredicted:  Arduino  Target:  Arduino\nPredicted:  Arduino  Target:  Arduino\nPredicted:  Coffee  Target:  Arduino\nPredicted:  Arduino  Target:  Arduino\nPredicted:  Arduino  Target:  Arduino\nPredicted:  Arduino  Target:  Arduino\nPredicted:  Arduino  Target:  Arduino\nPredicted:  Arduino  Target:  Arduino\nPredicted:  Arduino  Target:  Arduino\nPredicted:  Arduino  Target:  Arduino\nPredicted:  Arduino  Target:  Arduino\nPredicted:  Arduino  Target:  Arduino\nPredicted:  Arduino  Target:  Arduino\nPredicted:  Arduino  Target:  Arduino\nPredicted:  Arduino  Target:  Arduino\nPredicted:  Arduino  Target:  Arduino\nPredicted:  Arduino  Target:  Arduino\nPredicted:  Arduino  Target:  Arduino\nPredicted:  Coffee  Target:  Coffee\nPredicted:  Coffee  Target:  Coffee\nPredicted:  Coffee  Target:  Coffee\nPredicted:  Coffee  Target:  Coffee\nPredicted:  Coffee  Target:  Coffee\nPredicted:  Coffee  Target:  Coffee\nPredicted:  Coffee  Target:  Coffee\nPredicted:  Coffee  Target:  Coffee\nPredicted:  Coffee  Target:  Coffee\nPredicted:  Coffee  Target:  Coffee\nPredicted:  Coffee  Target:  Coffee\nPredicted:  Coffee  Target:  Coffee\nPredicted:  Coffee  Target:  Coffee\nPredicted:  Coffee  Target:  Coffee\nPredicted:  Coffee  Target:  Coffee\nPredicted:  Coffee  Target:  Coffee\nPredicted:  Coffee  Target:  Coffee\nPredicted:  Coffee  Target:  Coffee\nPredicted:  Coffee  Target:  Coffee\nPredicted:  Coffee  Target:  Coffee\nMiss:  3  Correct:  57  Accuracy:  95.0\n"
    }
   ],
   "source": [
    "miss = 0\n",
    "for l in range(test_data.shape[0]):\n",
    "    text = test_data['Body'][l]\n",
    "    test_vector = []\n",
    "    for i in range(total_vocabulary_size):\n",
    "        test_vector.append(0)\n",
    "    if text == None or str(text) == 'nan' or len(text) == 0:\n",
    "        continue\n",
    "\n",
    "    text = word_tokenize(text)\n",
    "    stop_words = set(stopwords.words('english'))\n",
    "    text = [word for word in text if not word in stop_words]\n",
    "\n",
    "    lemmatizer=WordNetLemmatizer()\n",
    "    text = [lemmatizer.lemmatize(word) for word in text]\n",
    "\n",
    "    stemmer= PorterStemmer()\n",
    "    text = [stemmer.stem(word) for word in text]\n",
    "\n",
    "    prob_class = []\n",
    "    for i in range(total_topic):\n",
    "        prob_class.append(topic_prob[i])\n",
    "    ##print(prob_class)\n",
    "\n",
    "    for word in text:\n",
    "        if word not in vocabulary.keys():\n",
    "            continue\n",
    "        else:\n",
    "            pos  = vocabulary[word]\n",
    "            for i in range(total_topic):\n",
    "                prob_class[i]*=word_prob[pos][i]\n",
    "    prediction = -1\n",
    "    \n",
    "    prediction = np.argmax(prob_class)\n",
    "    prediction = topic_map_reverse[prediction]\n",
    "    \n",
    "\n",
    "    \n",
    "    if prediction != test_data['Topic'][l]:\n",
    "        miss+=1\n",
    "    print('Predicted: ',prediction,' Target: ',test_data['Topic'][l])\n",
    "    #break\n",
    "    \n",
    "print('Miss: ',miss,' Correct: ',test_data.shape[0]-miss,' Accuracy: ',((test_data.shape[0]-miss)*100)/test_data.shape[0])"
   ]
  },
  {
   "cell_type": "code",
   "execution_count": null,
   "metadata": {},
   "outputs": [],
   "source": []
  }
 ]
}
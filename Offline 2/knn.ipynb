{
 "metadata": {
  "language_info": {
   "codemirror_mode": {
    "name": "ipython",
    "version": 3
   },
   "file_extension": ".py",
   "mimetype": "text/x-python",
   "name": "python",
   "nbconvert_exporter": "python",
   "pygments_lexer": "ipython3",
   "version": "3.7.3-final"
  },
  "orig_nbformat": 2,
  "kernelspec": {
   "name": "python37364bitdeeplearningcondaeffde72656b44ccc9f803edcd0e403e5",
   "display_name": "Python 3.7.3 64-bit ('deep-learning': conda)",
   "metadata": {
    "interpreter": {
     "hash": "18a2e600c03f756d0e3d157c29057f1563464d8816fdf409e1be001e9561fe0e"
    }
   }
  }
 },
 "nbformat": 4,
 "nbformat_minor": 2,
 "cells": [
  {
   "cell_type": "code",
   "execution_count": 1,
   "metadata": {},
   "outputs": [],
   "source": [
    "import pandas as pd \n",
    "import numpy as np\n",
    "import nltk\n",
    "from nltk.tokenize import word_tokenize\n",
    "from nltk.corpus import stopwords\n",
    "from nltk.stem import WordNetLemmatizer\n",
    "from nltk.stem import PorterStemmer"
   ]
  },
  {
   "cell_type": "code",
   "execution_count": 2,
   "metadata": {},
   "outputs": [],
   "source": [
    "def dataset(path,isTest = False):\n",
    "    data = pd.read_csv(path)\n",
    "    data.shape\n",
    "    grouped = data.groupby('Topic')\n",
    "\n",
    "    new_df = pd.DataFrame([], columns = data.columns)\n",
    "\n",
    "    for key, values in grouped:\n",
    "        if isTest:\n",
    "            new_df = pd.concat([new_df, grouped.get_group(key)[:25]], 0,ignore_index=True)\n",
    "        else:\n",
    "            new_df = pd.concat([new_df, grouped.get_group(key)[:100]], 0,ignore_index=True)\n",
    "    return new_df"
   ]
  },
  {
   "cell_type": "code",
   "execution_count": 3,
   "metadata": {},
   "outputs": [
    {
     "output_type": "execute_result",
     "data": {
      "text/plain": "(400, 2)"
     },
     "metadata": {},
     "execution_count": 3
    }
   ],
   "source": [
    "train_data = dataset('./Data/train.csv')\n",
    "train_data = train_data.sample(frac = 1) \n",
    "train_data.shape"
   ]
  },
  {
   "cell_type": "code",
   "execution_count": 4,
   "metadata": {
    "tags": []
   },
   "outputs": [],
   "source": [
    "i = 0\n",
    "topic_map = {}\n",
    "topic_map_reverse = {}\n",
    "for topic in set(train_data['Topic']):\n",
    "    topic_map[topic] = i\n",
    "    topic_map_reverse[i] = topic\n",
    "    i+=1\n",
    "total_topic = i\n"
   ]
  },
  {
   "cell_type": "code",
   "execution_count": 5,
   "metadata": {
    "tags": []
   },
   "outputs": [
    {
     "output_type": "stream",
     "name": "stdout",
     "text": "3928\n"
    }
   ],
   "source": [
    "vocabulary = {}\n",
    "pos = 0\n",
    "for i in range(train_data.shape[0]):\n",
    "    text =train_data['Body'][i]\n",
    "    if text == None or str(text) == 'nan' or len(text) == 0:\n",
    "        continue\n",
    "\n",
    "        # #Tokenize\n",
    "    text = word_tokenize(text)\n",
    "        # print(\"\\n===After Tokenizing:===\\n\", text)\n",
    "\n",
    "        # #Remove stopwords\n",
    "    stop_words = set(stopwords.words('english'))\n",
    "    text = [word for word in text if not word in stop_words]\n",
    "        # print(\"\\n===After Stopword Removal:===\\n\", text)\n",
    "\n",
    "        # #Lemmatize tokens\n",
    "    lemmatizer=WordNetLemmatizer()\n",
    "    text = [lemmatizer.lemmatize(word) for word in text]\n",
    "        # print(\"\\n===After Lemmatization:===\\n\", text)\n",
    "\n",
    "        # #Stemming tokens\n",
    "    stemmer= PorterStemmer()\n",
    "    text = [stemmer.stem(word) for word in text]\n",
    "        # print(\"\\n===After Stemming:===\\n\", text)\n",
    "    for word in text:\n",
    "        if word not in vocabulary.keys():\n",
    "\n",
    "            vocabulary[word] = pos\n",
    "            pos+=1\n",
    "total_vocabulary_size = pos\n",
    "print(pos)"
   ]
  },
  {
   "cell_type": "code",
   "execution_count": 6,
   "metadata": {},
   "outputs": [],
   "source": [
    "documents_feature = []\n",
    "for i in range(train_data.shape[0]):\n",
    "    document_feature = []\n",
    "    for i in range(total_vocabulary_size):\n",
    "        document_feature.append(0)\n",
    "    documents_feature.append(document_feature)"
   ]
  },
  {
   "cell_type": "code",
   "execution_count": 7,
   "metadata": {},
   "outputs": [],
   "source": [
    "for i in range(train_data.shape[0]):\n",
    "    text =train_data['Body'][i]\n",
    "    if text == None or str(text) == 'nan' or len(text) == 0:\n",
    "        continue\n",
    "\n",
    "        # #Tokenize\n",
    "    text = word_tokenize(text)\n",
    "        # print(\"\\n===After Tokenizing:===\\n\", text)\n",
    "\n",
    "        # #Remove stopwords\n",
    "    stop_words = set(stopwords.words('english'))\n",
    "    text = [word for word in text if not word in stop_words]\n",
    "        # print(\"\\n===After Stopword Removal:===\\n\", text)\n",
    "\n",
    "        # #Lemmatize tokens\n",
    "    lemmatizer=WordNetLemmatizer()\n",
    "    text = [lemmatizer.lemmatize(word) for word in text]\n",
    "        # print(\"\\n===After Lemmatization:===\\n\", text)\n",
    "\n",
    "        # #Stemming tokens\n",
    "    stemmer= PorterStemmer()\n",
    "    text = [stemmer.stem(word) for word in text]\n",
    "        # print(\"\\n===After Stemming:===\\n\", text)\n",
    "    for word in text:\n",
    "        pos = vocabulary[word]\n",
    "        documents_feature[i][pos]=1"
   ]
  },
  {
   "cell_type": "code",
   "execution_count": 8,
   "metadata": {},
   "outputs": [
    {
     "output_type": "execute_result",
     "data": {
      "text/plain": "(100, 2)"
     },
     "metadata": {},
     "execution_count": 8
    }
   ],
   "source": [
    "test_data = dataset('./Data/test.csv',True)\n",
    "test_data.shape"
   ]
  },
  {
   "cell_type": "code",
   "execution_count": 9,
   "metadata": {
    "tags": []
   },
   "outputs": [
    {
     "output_type": "stream",
     "name": "stdout",
     "text": "Predicted:  3d_Printer  Target:  3d_Printer\nPredicted:  3d_Printer  Target:  3d_Printer\nPredicted:  3d_Printer  Target:  3d_Printer\nPredicted:  3d_Printer  Target:  3d_Printer\nPredicted:  3d_Printer  Target:  3d_Printer\nPredicted:  3d_Printer  Target:  3d_Printer\nPredicted:  3d_Printer  Target:  3d_Printer\nPredicted:  3d_Printer  Target:  3d_Printer\nPredicted:  3d_Printer  Target:  3d_Printer\nPredicted:  3d_Printer  Target:  3d_Printer\nPredicted:  3d_Printer  Target:  3d_Printer\nPredicted:  3d_Printer  Target:  3d_Printer\nPredicted:  3d_Printer  Target:  3d_Printer\nPredicted:  3d_Printer  Target:  3d_Printer\nPredicted:  3d_Printer  Target:  3d_Printer\nPredicted:  3d_Printer  Target:  3d_Printer\nPredicted:  3d_Printer  Target:  3d_Printer\nPredicted:  3d_Printer  Target:  3d_Printer\nPredicted:  3d_Printer  Target:  3d_Printer\nPredicted:  3d_Printer  Target:  3d_Printer\nPredicted:  3d_Printer  Target:  3d_Printer\nPredicted:  3d_Printer  Target:  3d_Printer\nPredicted:  3d_Printer  Target:  3d_Printer\nPredicted:  Anime  Target:  3d_Printer\nPredicted:  3d_Printer  Target:  3d_Printer\nPredicted:  3d_Printer  Target:  Anime\nPredicted:  3d_Printer  Target:  Anime\nPredicted:  3d_Printer  Target:  Anime\nPredicted:  3d_Printer  Target:  Anime\nPredicted:  3d_Printer  Target:  Anime\nPredicted:  Anime  Target:  Anime\nPredicted:  3d_Printer  Target:  Anime\nPredicted:  3d_Printer  Target:  Anime\nPredicted:  3d_Printer  Target:  Anime\nPredicted:  3d_Printer  Target:  Anime\nPredicted:  3d_Printer  Target:  Anime\nPredicted:  3d_Printer  Target:  Anime\nPredicted:  3d_Printer  Target:  Anime\nPredicted:  3d_Printer  Target:  Anime\nPredicted:  3d_Printer  Target:  Anime\nPredicted:  3d_Printer  Target:  Anime\nPredicted:  3d_Printer  Target:  Anime\nPredicted:  3d_Printer  Target:  Anime\nPredicted:  Anime  Target:  Anime\nPredicted:  3d_Printer  Target:  Anime\nPredicted:  3d_Printer  Target:  Anime\nPredicted:  3d_Printer  Target:  Anime\nPredicted:  3d_Printer  Target:  Anime\nPredicted:  3d_Printer  Target:  Anime\nPredicted:  3d_Printer  Target:  Anime\nPredicted:  3d_Printer  Target:  Arduino\nPredicted:  3d_Printer  Target:  Arduino\nPredicted:  3d_Printer  Target:  Arduino\nPredicted:  3d_Printer  Target:  Arduino\nPredicted:  Anime  Target:  Arduino\nPredicted:  3d_Printer  Target:  Arduino\nPredicted:  3d_Printer  Target:  Arduino\nPredicted:  3d_Printer  Target:  Arduino\nPredicted:  3d_Printer  Target:  Arduino\nPredicted:  3d_Printer  Target:  Arduino\nPredicted:  3d_Printer  Target:  Arduino\nPredicted:  3d_Printer  Target:  Arduino\nPredicted:  3d_Printer  Target:  Arduino\nPredicted:  3d_Printer  Target:  Arduino\nPredicted:  3d_Printer  Target:  Arduino\nPredicted:  3d_Printer  Target:  Arduino\nPredicted:  3d_Printer  Target:  Arduino\nPredicted:  Anime  Target:  Arduino\nPredicted:  3d_Printer  Target:  Arduino\nPredicted:  3d_Printer  Target:  Arduino\nPredicted:  3d_Printer  Target:  Arduino\nPredicted:  3d_Printer  Target:  Arduino\nPredicted:  3d_Printer  Target:  Arduino\nPredicted:  3d_Printer  Target:  Arduino\nPredicted:  3d_Printer  Target:  Arduino\nPredicted:  3d_Printer  Target:  Coffee\nPredicted:  3d_Printer  Target:  Coffee\nPredicted:  3d_Printer  Target:  Coffee\nPredicted:  3d_Printer  Target:  Coffee\nPredicted:  3d_Printer  Target:  Coffee\nPredicted:  3d_Printer  Target:  Coffee\nPredicted:  3d_Printer  Target:  Coffee\nPredicted:  3d_Printer  Target:  Coffee\nPredicted:  3d_Printer  Target:  Coffee\nPredicted:  3d_Printer  Target:  Coffee\nPredicted:  3d_Printer  Target:  Coffee\nPredicted:  Anime  Target:  Coffee\nPredicted:  3d_Printer  Target:  Coffee\nPredicted:  3d_Printer  Target:  Coffee\nPredicted:  3d_Printer  Target:  Coffee\nPredicted:  3d_Printer  Target:  Coffee\nPredicted:  3d_Printer  Target:  Coffee\nPredicted:  3d_Printer  Target:  Coffee\nPredicted:  3d_Printer  Target:  Coffee\nPredicted:  3d_Printer  Target:  Coffee\nPredicted:  3d_Printer  Target:  Coffee\nPredicted:  3d_Printer  Target:  Coffee\nPredicted:  3d_Printer  Target:  Coffee\nPredicted:  3d_Printer  Target:  Coffee\nPredicted:  Anime  Target:  Coffee\nMiss:  74  Correct:  26  Accuracy:  26.0\n"
    }
   ],
   "source": [
    "miss = 0\n",
    "\n",
    "k = 5\n",
    "\n",
    "for l in range(test_data.shape[0]):\n",
    "    text = test_data['Body'][l]\n",
    "    test_vector = []\n",
    "    for i in range(total_vocabulary_size):\n",
    "        test_vector.append(0)\n",
    "    if text == None or str(text) == 'nan' or len(text) == 0:\n",
    "        continue\n",
    "\n",
    "        # #Tokenize\n",
    "    text = word_tokenize(text)\n",
    "        # print(\"\\n===After Tokenizing:===\\n\", text)\n",
    "\n",
    "        # #Remove stopwords\n",
    "    stop_words = set(stopwords.words('english'))\n",
    "    text = [word for word in text if not word in stop_words]\n",
    "        # print(\"\\n===After Stopword Removal:===\\n\", text)\n",
    "\n",
    "        # #Lemmatize tokens\n",
    "    lemmatizer=WordNetLemmatizer()\n",
    "    text = [lemmatizer.lemmatize(word) for word in text]\n",
    "        # print(\"\\n===After Lemmatization:===\\n\", text)\n",
    "\n",
    "        # #Stemming tokens\n",
    "    stemmer= PorterStemmer()\n",
    "    text = [stemmer.stem(word) for word in text]\n",
    "        # print(\"\\n===After Stemming:===\\n\", text)\n",
    "    for word in text:\n",
    "        if word not in vocabulary.keys():\n",
    "            continue\n",
    "        else:\n",
    "            pos  = vocabulary[word]\n",
    "            test_vector[pos] = 1\n",
    "    hamming_distance = []\n",
    "    for i in range(len(documents_feature)):\n",
    "        hamming_distance.append(0)\n",
    "    for i in range(total_vocabulary_size):\n",
    "        for j in range(len(documents_feature)):\n",
    "            hamming_distance[j]+= abs(documents_feature[j][i]-test_vector[i]) \n",
    "    prediction = -1\n",
    "    if k==1:\n",
    "        prediction = np.argmin(hamming_distance)\n",
    "        prediction = topic_map[test_data['Topic'][prediction]]\n",
    "    if k==3:\n",
    "        prediction = sorted(hamming_distance)[:3]\n",
    "        topic_list = []\n",
    "        for i in range(3):\n",
    "            topic_list.append(train_data['Topic'][prediction[i]])\n",
    "        prediction = max(set(topic_list), key = topic_list.count) \n",
    "    if k==5:\n",
    "        prediction = sorted(hamming_distance)[:5]\n",
    "        topic_list = []\n",
    "        for i in range(5):\n",
    "            topic_list.append(train_data['Topic'][prediction[i]])\n",
    "        prediction = max(set(topic_list), key = topic_list.count) \n",
    "\n",
    "    \n",
    "    if prediction != test_data['Topic'][l]:\n",
    "        miss+=1\n",
    "    print('Predicted: ',prediction,' Target: ',test_data['Topic'][l])\n",
    "    #break\n",
    "    \n",
    "print('Miss: ',miss,' Correct: ',test_data.shape[0]-miss,' Accuracy: ',((test_data.shape[0]-miss)*100)/test_data.shape[0])"
   ]
  },
  {
   "cell_type": "code",
   "execution_count": null,
   "metadata": {},
   "outputs": [],
   "source": []
  }
 ]
}
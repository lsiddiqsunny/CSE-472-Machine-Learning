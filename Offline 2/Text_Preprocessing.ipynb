{
 "metadata": {
  "language_info": {
   "codemirror_mode": {
    "name": "ipython",
    "version": 3
   },
   "file_extension": ".py",
   "mimetype": "text/x-python",
   "name": "python",
   "nbconvert_exporter": "python",
   "pygments_lexer": "ipython3",
   "version": "3.7.3-final"
  },
  "orig_nbformat": 2,
  "kernelspec": {
   "name": "python37364bitdeeplearningcondaeffde72656b44ccc9f803edcd0e403e5",
   "display_name": "Python 3.7.3 64-bit ('deep-learning': conda)"
  }
 },
 "nbformat": 4,
 "nbformat_minor": 2,
 "cells": [
  {
   "cell_type": "code",
   "execution_count": 1,
   "metadata": {
    "tags": []
   },
   "outputs": [],
   "source": [
    "import pandas as pd \n",
    "import string\n",
    "from bs4 import BeautifulSoup\n",
    "import nltk\n",
    "from nltk.tokenize import word_tokenize\n",
    "from nltk.corpus import stopwords\n",
    "from nltk.stem import WordNetLemmatizer\n",
    "from nltk.stem import PorterStemmer\n",
    "import re"
   ]
  },
  {
   "cell_type": "code",
   "execution_count": 2,
   "metadata": {
    "tags": []
   },
   "outputs": [
    {
     "output_type": "stream",
     "name": "stdout",
     "text": [
      "11\n"
     ]
    }
   ],
   "source": [
    "topics = open('./Data/topics.txt', 'r',encoding='utf-8')\n",
    "\n",
    "dataframes = []\n",
    "for filename in topics:\n",
    "    filename = filename.strip()\n",
    "    data = pd.read_csv('./Data/CSV/training/'+filename+'.csv')\n",
    "    classification = []\n",
    "    for i in range(data.shape[0]):\n",
    "        classification.append(filename)\n",
    "        text = data['Body'][i]\n",
    "        if text == None or str(text) == 'nan' or len(text) == 0:\n",
    "            continue\n",
    "        text = text.lower()\n",
    "        text = BeautifulSoup(text).get_text()\n",
    "        text = re.sub(r'[-+]?\\d+', '', text)\n",
    "        text=text.translate((str.maketrans('','',string.punctuation)))\n",
    "        data['Body'][i] = text     \n",
    "    data['Topic']= classification\n",
    "    dataframes.append(data)\n",
    "print(len(dataframes))"
   ]
  },
  {
   "cell_type": "code",
   "execution_count": 3,
   "metadata": {},
   "outputs": [
    {
     "output_type": "execute_result",
     "data": {
      "text/plain": [
       "(166627, 2)"
      ]
     },
     "metadata": {},
     "execution_count": 3
    }
   ],
   "source": [
    "trainset = pd.concat(dataframes,ignore_index=True)\n",
    "trainset.shape"
   ]
  },
  {
   "cell_type": "code",
   "execution_count": 4,
   "metadata": {},
   "outputs": [],
   "source": [
    "trainset.to_csv('./Data/train.csv',index=False)"
   ]
  }
 ]
}
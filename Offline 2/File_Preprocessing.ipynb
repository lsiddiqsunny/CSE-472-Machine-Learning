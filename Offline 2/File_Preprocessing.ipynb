{
 "metadata": {
  "language_info": {
   "codemirror_mode": {
    "name": "ipython",
    "version": 3
   },
   "file_extension": ".py",
   "mimetype": "text/x-python",
   "name": "python",
   "nbconvert_exporter": "python",
   "pygments_lexer": "ipython3",
   "version": "3.7.3-final"
  },
  "orig_nbformat": 2,
  "kernelspec": {
   "name": "Python 3.7.3 64-bit",
   "display_name": "Python 3.7.3 64-bit",
   "metadata": {
    "interpreter": {
     "hash": "18a2e600c03f756d0e3d157c29057f1563464d8816fdf409e1be001e9561fe0e"
    }
   }
  }
 },
 "nbformat": 4,
 "nbformat_minor": 2,
 "cells": [
  {
   "source": [
    "Import libraries"
   ],
   "cell_type": "markdown",
   "metadata": {}
  },
  {
   "cell_type": "code",
   "execution_count": 1,
   "metadata": {},
   "outputs": [],
   "source": [
    "from xml.etree import ElementTree\n",
    "import csv\n",
    "import os"
   ]
  },
  {
   "source": [
    "Parse xml tree of train set"
   ],
   "cell_type": "markdown",
   "metadata": {}
  },
  {
   "cell_type": "code",
   "execution_count": 2,
   "metadata": {
    "tags": []
   },
   "outputs": [
    {
     "output_type": "stream",
     "name": "stdout",
     "text": "Done:  3d_Printer\nDone:  Coffee\nDone:  Arduino\nDone:  Anime\n"
    }
   ],
   "source": [
    "topics = open('./Data/topics.txt', 'r',encoding='utf-8')\n",
    "for filename in topics:\n",
    "    filename = filename.strip()\n",
    "    tree = ElementTree.parse('./Data/Training/'+filename+'.xml')\n",
    "    csvfile = open('./Data/CSV/Training/'+filename+'.csv','w',newline='',encoding='utf-8')\n",
    "    csvwriter = csv.writer(csvfile)\n",
    "    col_names = ['Body']\n",
    "    csvwriter.writerow(col_names)\n",
    "    root = tree.getroot()\n",
    "    for row in root.findall('row'):\n",
    "        elemtData = []\n",
    "        for col_name in col_names:\n",
    "            if row.get(col_name)!= None:\n",
    "                elemtData.append(row.get(col_name))\n",
    "            else:\n",
    "                elemtData.append('')\n",
    "        csvwriter.writerow(elemtData)\n",
    "\n",
    "    csvfile.close()\n",
    "    print('Done: ',filename)"
   ]
  },
  {
   "source": [
    "Parse xml tree of test set"
   ],
   "cell_type": "markdown",
   "metadata": {}
  },
  {
   "source": [
    "topics = open('./Data/topics.txt', 'r',encoding='utf-8')\n",
    "for filename in topics:\n",
    "    filename = filename.strip()\n",
    "\n",
    "    f = open('./Data/Test/'+filename+'.xml', 'r',encoding='utf-8')\n",
    "    csvfile = open('./Data/CSV/Test/'+filename+'.csv','w',newline='',encoding='utf-8')\n",
    "\n",
    "    csvwriter = csv.writer(csvfile)\n",
    "    col_names = ['Id','PostTypeId','AcceptedAnswerId','CreationDate','Score','ViewCount','Body','OwnerUserId','LastActivityDate','Title','Tags','AnswerCount','CommentCount']\n",
    "    csvwriter.writerow(col_names)\n",
    "\n",
    "    for line in f:\n",
    "        line = line[line.find('<'):]\n",
    "        row = ElementTree.fromstring(line)\n",
    "        elemtData = []\n",
    "        for col_name in col_names:\n",
    "            if row.get(col_name)!= None:\n",
    "                elemtData.append(row.get(col_name))\n",
    "            else:\n",
    "                elemtData.append('')\n",
    "        csvwriter.writerow(elemtData)\n",
    "\n",
    "    csvfile.close()\n",
    "    print('Done: ',filename)\n"
   ],
   "cell_type": "code",
   "metadata": {
    "tags": []
   },
   "execution_count": 3,
   "outputs": [
    {
     "output_type": "stream",
     "name": "stdout",
     "text": "Done:  3d_Printer\nDone:  Coffee\nDone:  Arduino\nDone:  Anime\n"
    }
   ]
  },
  {
   "cell_type": "code",
   "execution_count": null,
   "metadata": {},
   "outputs": [],
   "source": []
  }
 ]
}